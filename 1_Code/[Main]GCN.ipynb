{
  "nbformat": 4,
  "nbformat_minor": 0,
  "metadata": {
    "colab": {
      "name": "[Main]GCN.ipynb",
      "provenance": [],
      "collapsed_sections": [
        "wLTCkY_5lGFA",
        "bHza2GsFoAih",
        "AafxRpPC-3KQ"
      ]
    },
    "kernelspec": {
      "name": "python3",
      "display_name": "Python 3"
    },
    "accelerator": "GPU"
  },
  "cells": [
    {
      "cell_type": "markdown",
      "metadata": {
        "id": "wLTCkY_5lGFA"
      },
      "source": [
        "# 0. Package Install \n",
        "\n",
        "\n",
        "---\n",
        "\n",
        "주요 패키지\n",
        "\n",
        "\n",
        "\n",
        "1.   ```Torch_geometric```\n",
        "2.   ```Mendeleev```\n",
        "3.   ```RDKit```\n",
        "\n",
        "*숨겨진 셀들을 아래의 실행버튼을 통해서 보지 않고 수행될 수 있도록 해주세요*"
      ]
    },
    {
      "cell_type": "code",
      "metadata": {
        "id": "s5DtyOF42f2C",
        "colab": {
          "base_uri": "https://localhost:8080/"
        },
        "outputId": "12f95c99-5310-4e93-9a05-2bcb85dbd75a"
      },
      "source": [
        "# Add this in a Google Colab cell to install the correct version of Pytorch Geometric.\n",
        "# https://gist.github.com/ameya98\n",
        "import torch\n",
        "\n",
        "def format_pytorch_version(version):\n",
        "  return version.split('+')[0]\n",
        "\n",
        "TORCH_version = torch.__version__\n",
        "TORCH = format_pytorch_version(TORCH_version)\n",
        "\n",
        "def format_cuda_version(version):\n",
        "  return 'cu' + version.replace('.', '')\n",
        "\n",
        "CUDA_version = torch.version.cuda\n",
        "CUDA = format_cuda_version(CUDA_version)\n",
        "\n",
        "!pip install torch-scatter==latest+{CUDA}     -f https://pytorch-geometric.com/whl/torch-{TORCH}.html\n",
        "!pip install torch-sparse==latest+{CUDA}      -f https://pytorch-geometric.com/whl/torch-{TORCH}.html\n",
        "!pip install torch-cluster==latest+{CUDA}     -f https://pytorch-geometric.com/whl/torch-{TORCH}.html\n",
        "!pip install torch-spline-conv==latest+{CUDA} -f https://pytorch-geometric.com/whl/torch-{TORCH}.html\n",
        "!pip install torch-geometric \n",
        "!pip install mendeleev\n",
        "# !pip install rdkit"
      ],
      "execution_count": 3,
      "outputs": [
        {
          "output_type": "stream",
          "text": [
            "Looking in links: https://pytorch-geometric.com/whl/torch-1.7.0.html\n",
            "Collecting torch-scatter==latest+cu101\n",
            "\u001b[?25l  Downloading https://pytorch-geometric.com/whl/torch-1.7.0/torch_scatter-latest%2Bcu101-cp36-cp36m-linux_x86_64.whl (11.9MB)\n",
            "\u001b[K     |████████████████████████████████| 11.9MB 32.7MB/s \n",
            "\u001b[?25hInstalling collected packages: torch-scatter\n",
            "Successfully installed torch-scatter-2.0.5\n",
            "Looking in links: https://pytorch-geometric.com/whl/torch-1.7.0.html\n",
            "Collecting torch-sparse==latest+cu101\n",
            "\u001b[?25l  Downloading https://pytorch-geometric.com/whl/torch-1.7.0/torch_sparse-latest%2Bcu101-cp36-cp36m-linux_x86_64.whl (24.3MB)\n",
            "\u001b[K     |████████████████████████████████| 24.3MB 138kB/s \n",
            "\u001b[?25hRequirement already satisfied: scipy in /usr/local/lib/python3.6/dist-packages (from torch-sparse==latest+cu101) (1.4.1)\n",
            "Requirement already satisfied: numpy>=1.13.3 in /usr/local/lib/python3.6/dist-packages (from scipy->torch-sparse==latest+cu101) (1.19.5)\n",
            "Installing collected packages: torch-sparse\n",
            "Successfully installed torch-sparse-0.6.8\n",
            "Looking in links: https://pytorch-geometric.com/whl/torch-1.7.0.html\n",
            "Collecting torch-cluster==latest+cu101\n",
            "\u001b[?25l  Downloading https://pytorch-geometric.com/whl/torch-1.7.0/torch_cluster-latest%2Bcu101-cp36-cp36m-linux_x86_64.whl (21.5MB)\n",
            "\u001b[K     |████████████████████████████████| 21.5MB 1.3MB/s \n",
            "\u001b[?25hInstalling collected packages: torch-cluster\n",
            "Successfully installed torch-cluster-1.5.8\n",
            "Looking in links: https://pytorch-geometric.com/whl/torch-1.7.0.html\n",
            "Collecting torch-spline-conv==latest+cu101\n",
            "\u001b[?25l  Downloading https://pytorch-geometric.com/whl/torch-1.7.0/torch_spline_conv-latest%2Bcu101-cp36-cp36m-linux_x86_64.whl (6.4MB)\n",
            "\u001b[K     |████████████████████████████████| 6.4MB 23.4MB/s \n",
            "\u001b[?25hInstalling collected packages: torch-spline-conv\n",
            "Successfully installed torch-spline-conv-1.2.0\n",
            "Collecting torch-geometric\n",
            "\u001b[?25l  Downloading https://files.pythonhosted.org/packages/59/5c/3e95b76321fb14f24cc2ace392075717f645c4632e796ee0db1bc7d17231/torch_geometric-1.6.3.tar.gz (186kB)\n",
            "\u001b[K     |████████████████████████████████| 194kB 19.2MB/s \n",
            "\u001b[?25hRequirement already satisfied: torch in /usr/local/lib/python3.6/dist-packages (from torch-geometric) (1.7.0+cu101)\n",
            "Requirement already satisfied: numpy in /usr/local/lib/python3.6/dist-packages (from torch-geometric) (1.19.5)\n",
            "Requirement already satisfied: tqdm in /usr/local/lib/python3.6/dist-packages (from torch-geometric) (4.41.1)\n",
            "Requirement already satisfied: scipy in /usr/local/lib/python3.6/dist-packages (from torch-geometric) (1.4.1)\n",
            "Requirement already satisfied: networkx in /usr/local/lib/python3.6/dist-packages (from torch-geometric) (2.5)\n",
            "Requirement already satisfied: python-louvain in /usr/local/lib/python3.6/dist-packages (from torch-geometric) (0.15)\n",
            "Requirement already satisfied: scikit-learn in /usr/local/lib/python3.6/dist-packages (from torch-geometric) (0.22.2.post1)\n",
            "Requirement already satisfied: numba in /usr/local/lib/python3.6/dist-packages (from torch-geometric) (0.51.2)\n",
            "Requirement already satisfied: requests in /usr/local/lib/python3.6/dist-packages (from torch-geometric) (2.23.0)\n",
            "Requirement already satisfied: pandas in /usr/local/lib/python3.6/dist-packages (from torch-geometric) (1.1.5)\n",
            "Collecting rdflib\n",
            "\u001b[?25l  Downloading https://files.pythonhosted.org/packages/d0/6b/6454aa1db753c0f8bc265a5bd5c10b5721a4bb24160fb4faf758cf6be8a1/rdflib-5.0.0-py3-none-any.whl (231kB)\n",
            "\u001b[K     |████████████████████████████████| 235kB 48.6MB/s \n",
            "\u001b[?25hRequirement already satisfied: h5py in /usr/local/lib/python3.6/dist-packages (from torch-geometric) (2.10.0)\n",
            "Requirement already satisfied: googledrivedownloader in /usr/local/lib/python3.6/dist-packages (from torch-geometric) (0.4)\n",
            "Collecting ase\n",
            "\u001b[?25l  Downloading https://files.pythonhosted.org/packages/a5/36/de17e79f29e06d9a92746d0dd9ec4636487ab03f6af10e78586aae533f7a/ase-3.21.1-py3-none-any.whl (2.2MB)\n",
            "\u001b[K     |████████████████████████████████| 2.2MB 52.4MB/s \n",
            "\u001b[?25hRequirement already satisfied: jinja2 in /usr/local/lib/python3.6/dist-packages (from torch-geometric) (2.11.3)\n",
            "Requirement already satisfied: typing-extensions in /usr/local/lib/python3.6/dist-packages (from torch->torch-geometric) (3.7.4.3)\n",
            "Requirement already satisfied: future in /usr/local/lib/python3.6/dist-packages (from torch->torch-geometric) (0.16.0)\n",
            "Requirement already satisfied: dataclasses in /usr/local/lib/python3.6/dist-packages (from torch->torch-geometric) (0.8)\n",
            "Requirement already satisfied: decorator>=4.3.0 in /usr/local/lib/python3.6/dist-packages (from networkx->torch-geometric) (4.4.2)\n",
            "Requirement already satisfied: joblib>=0.11 in /usr/local/lib/python3.6/dist-packages (from scikit-learn->torch-geometric) (1.0.0)\n",
            "Requirement already satisfied: llvmlite<0.35,>=0.34.0.dev0 in /usr/local/lib/python3.6/dist-packages (from numba->torch-geometric) (0.34.0)\n",
            "Requirement already satisfied: setuptools in /usr/local/lib/python3.6/dist-packages (from numba->torch-geometric) (53.0.0)\n",
            "Requirement already satisfied: certifi>=2017.4.17 in /usr/local/lib/python3.6/dist-packages (from requests->torch-geometric) (2020.12.5)\n",
            "Requirement already satisfied: chardet<4,>=3.0.2 in /usr/local/lib/python3.6/dist-packages (from requests->torch-geometric) (3.0.4)\n",
            "Requirement already satisfied: idna<3,>=2.5 in /usr/local/lib/python3.6/dist-packages (from requests->torch-geometric) (2.10)\n",
            "Requirement already satisfied: urllib3!=1.25.0,!=1.25.1,<1.26,>=1.21.1 in /usr/local/lib/python3.6/dist-packages (from requests->torch-geometric) (1.24.3)\n",
            "Requirement already satisfied: python-dateutil>=2.7.3 in /usr/local/lib/python3.6/dist-packages (from pandas->torch-geometric) (2.8.1)\n",
            "Requirement already satisfied: pytz>=2017.2 in /usr/local/lib/python3.6/dist-packages (from pandas->torch-geometric) (2018.9)\n",
            "Requirement already satisfied: pyparsing in /usr/local/lib/python3.6/dist-packages (from rdflib->torch-geometric) (2.4.7)\n",
            "Collecting isodate\n",
            "\u001b[?25l  Downloading https://files.pythonhosted.org/packages/9b/9f/b36f7774ff5ea8e428fdcfc4bb332c39ee5b9362ddd3d40d9516a55221b2/isodate-0.6.0-py2.py3-none-any.whl (45kB)\n",
            "\u001b[K     |████████████████████████████████| 51kB 9.7MB/s \n",
            "\u001b[?25hRequirement already satisfied: six in /usr/local/lib/python3.6/dist-packages (from rdflib->torch-geometric) (1.15.0)\n",
            "Requirement already satisfied: matplotlib>=2.0.0 in /usr/local/lib/python3.6/dist-packages (from ase->torch-geometric) (3.2.2)\n",
            "Requirement already satisfied: MarkupSafe>=0.23 in /usr/local/lib/python3.6/dist-packages (from jinja2->torch-geometric) (1.1.1)\n",
            "Requirement already satisfied: cycler>=0.10 in /usr/local/lib/python3.6/dist-packages (from matplotlib>=2.0.0->ase->torch-geometric) (0.10.0)\n",
            "Requirement already satisfied: kiwisolver>=1.0.1 in /usr/local/lib/python3.6/dist-packages (from matplotlib>=2.0.0->ase->torch-geometric) (1.3.1)\n",
            "Building wheels for collected packages: torch-geometric\n",
            "  Building wheel for torch-geometric (setup.py) ... \u001b[?25l\u001b[?25hdone\n",
            "  Created wheel for torch-geometric: filename=torch_geometric-1.6.3-cp36-none-any.whl size=322720 sha256=7203c272ca1d1b2e2fd0757b43183e4758605c7db312ea16281d21b9b4a8e0c1\n",
            "  Stored in directory: /root/.cache/pip/wheels/6d/47/1e/0af8ce3e21783c3e584c22502011a3367c091694eebc50a971\n",
            "Successfully built torch-geometric\n",
            "Installing collected packages: isodate, rdflib, ase, torch-geometric\n",
            "Successfully installed ase-3.21.1 isodate-0.6.0 rdflib-5.0.0 torch-geometric-1.6.3\n",
            "Collecting mendeleev\n",
            "\u001b[?25l  Downloading https://files.pythonhosted.org/packages/f0/75/5863bb298aa1390cb9ecb0548a62b8213ef085273f9d3c73e513b9c36214/mendeleev-0.6.1.tar.gz (193kB)\n",
            "\u001b[K     |████████████████████████████████| 194kB 16.8MB/s \n",
            "\u001b[?25hRequirement already satisfied: numpy in /usr/local/lib/python3.6/dist-packages (from mendeleev) (1.19.5)\n",
            "Requirement already satisfied: pandas in /usr/local/lib/python3.6/dist-packages (from mendeleev) (1.1.5)\n",
            "Requirement already satisfied: sqlalchemy>=1.3.0 in /usr/local/lib/python3.6/dist-packages (from mendeleev) (1.3.23)\n",
            "Collecting colorama\n",
            "  Downloading https://files.pythonhosted.org/packages/44/98/5b86278fbbf250d239ae0ecb724f8572af1c91f4a11edf4d36a206189440/colorama-0.4.4-py2.py3-none-any.whl\n",
            "Collecting pyfiglet\n",
            "\u001b[?25l  Downloading https://files.pythonhosted.org/packages/33/07/fcfdd7a2872f5b348953de35acce1544dab0c1e8368dca54279b1cde5c15/pyfiglet-0.8.post1-py2.py3-none-any.whl (865kB)\n",
            "\u001b[K     |████████████████████████████████| 870kB 48.4MB/s \n",
            "\u001b[?25hRequirement already satisfied: python-dateutil>=2.7.3 in /usr/local/lib/python3.6/dist-packages (from pandas->mendeleev) (2.8.1)\n",
            "Requirement already satisfied: pytz>=2017.2 in /usr/local/lib/python3.6/dist-packages (from pandas->mendeleev) (2018.9)\n",
            "Requirement already satisfied: six>=1.5 in /usr/local/lib/python3.6/dist-packages (from python-dateutil>=2.7.3->pandas->mendeleev) (1.15.0)\n",
            "Building wheels for collected packages: mendeleev\n",
            "  Building wheel for mendeleev (setup.py) ... \u001b[?25l\u001b[?25hdone\n",
            "  Created wheel for mendeleev: filename=mendeleev-0.6.1-py2.py3-none-any.whl size=174964 sha256=e982e838a97b3216649eef5f386caca9cdc4a83dff1d24de303fc0d84f680f72\n",
            "  Stored in directory: /root/.cache/pip/wheels/fb/28/5d/95e69a718b35dd00169889b0139a692f6c265d399cab3aa097\n",
            "Successfully built mendeleev\n",
            "Installing collected packages: colorama, pyfiglet, mendeleev\n",
            "Successfully installed colorama-0.4.4 mendeleev-0.6.1 pyfiglet-0.8.post1\n"
          ],
          "name": "stdout"
        }
      ]
    },
    {
      "cell_type": "code",
      "metadata": {
        "colab": {
          "base_uri": "https://localhost:8080/"
        },
        "id": "eq_W-qud2m0N",
        "outputId": "75f10df3-481f-4541-e5dc-287362f4658a"
      },
      "source": [
        "import sys\n",
        "import os\n",
        "import requests\n",
        "import subprocess\n",
        "import shutil\n",
        "from logging import getLogger, StreamHandler, INFO\n",
        "\n",
        "\n",
        "logger = getLogger(__name__)\n",
        "logger.addHandler(StreamHandler())\n",
        "logger.setLevel(INFO)\n",
        "\n",
        "\n",
        "def install(\n",
        "        chunk_size=4096,\n",
        "        file_name=\"Miniconda3-latest-Linux-x86_64.sh\",\n",
        "        url_base=\"https://repo.continuum.io/miniconda/\",\n",
        "        conda_path=os.path.expanduser(os.path.join(\"~\", \"miniconda\")),\n",
        "        rdkit_version=None,\n",
        "        add_python_path=True,\n",
        "        force=False):\n",
        "    \"\"\"install rdkit from miniconda\n",
        "    ```\n",
        "    import rdkit_installer\n",
        "    rdkit_installer.install()\n",
        "    ```\n",
        "    \"\"\"\n",
        "\n",
        "    python_path = os.path.join(\n",
        "        conda_path,\n",
        "        \"lib\",\n",
        "        \"python{0}.{1}\".format(*sys.version_info),\n",
        "        \"site-packages\",\n",
        "    )\n",
        "\n",
        "    if add_python_path and python_path not in sys.path:\n",
        "        logger.info(\"add {} to PYTHONPATH\".format(python_path))\n",
        "        sys.path.append(python_path)\n",
        "\n",
        "    if os.path.isdir(os.path.join(python_path, \"rdkit\")):\n",
        "        logger.info(\"rdkit is already installed\")\n",
        "        if not force:\n",
        "            return\n",
        "\n",
        "        logger.info(\"force re-install\")\n",
        "\n",
        "    url = url_base + file_name\n",
        "    python_version = \"{0}.{1}.{2}\".format(*sys.version_info)\n",
        "\n",
        "    logger.info(\"python version: {}\".format(python_version))\n",
        "\n",
        "    if os.path.isdir(conda_path):\n",
        "        logger.warning(\"remove current miniconda\")\n",
        "        shutil.rmtree(conda_path)\n",
        "    elif os.path.isfile(conda_path):\n",
        "        logger.warning(\"remove {}\".format(conda_path))\n",
        "        os.remove(conda_path)\n",
        "\n",
        "    logger.info('fetching installer from {}'.format(url))\n",
        "    res = requests.get(url, stream=True)\n",
        "    res.raise_for_status()\n",
        "    with open(file_name, 'wb') as f:\n",
        "        for chunk in res.iter_content(chunk_size):\n",
        "            f.write(chunk)\n",
        "    logger.info('done')\n",
        "\n",
        "    logger.info('installing miniconda to {}'.format(conda_path))\n",
        "    subprocess.check_call([\"bash\", file_name, \"-b\", \"-p\", conda_path])\n",
        "    logger.info('done')\n",
        "\n",
        "    logger.info(\"installing rdkit\")\n",
        "    subprocess.check_call([\n",
        "        os.path.join(conda_path, \"bin\", \"conda\"),\n",
        "        \"install\",\n",
        "        \"--yes\",\n",
        "        \"-c\", \"rdkit\",\n",
        "        \"python=={}\".format(python_version),\n",
        "        \"rdkit\" if rdkit_version is None else \"rdkit=={}\".format(rdkit_version)])\n",
        "    logger.info(\"done\")\n",
        "\n",
        "    import rdkit\n",
        "    logger.info(\"rdkit-{} installation finished!\".format(rdkit.__version__))\n",
        "\n",
        "\n",
        "if __name__ == \"__main__\":\n",
        "  install()"
      ],
      "execution_count": 4,
      "outputs": [
        {
          "output_type": "stream",
          "text": [
            "add /root/miniconda/lib/python3.6/site-packages to PYTHONPATH\n",
            "python version: 3.6.9\n",
            "fetching installer from https://repo.continuum.io/miniconda/Miniconda3-latest-Linux-x86_64.sh\n",
            "done\n",
            "installing miniconda to /root/miniconda\n",
            "done\n",
            "installing rdkit\n",
            "done\n",
            "rdkit-2020.09.1 installation finished!\n"
          ],
          "name": "stderr"
        }
      ]
    },
    {
      "cell_type": "code",
      "metadata": {
        "id": "QLtPKnjU3Mpw"
      },
      "source": [
        "import numpy as np\n",
        "import pandas as pd\n",
        "import random\n",
        "\n",
        "from sklearn.metrics import r2_score\n",
        "from sklearn import preprocessing\n",
        "from sklearn.preprocessing import StandardScaler\n",
        "from sklearn.model_selection import train_test_split\n",
        "\n",
        "from torch_geometric.data import Data\n",
        "from torch_geometric.data import DataLoader\n",
        "# from torch.utils.data import Dataset\n",
        "# from torch.utils.data import DataLoader\n",
        "\n",
        "from tqdm import tqdm\n",
        "\n",
        "from mendeleev import get_table\n",
        "from rdkit import Chem\n",
        "from rdkit.Chem.Descriptors import ExactMolWt\n",
        "from rdkit.Chem import Descriptors as desc\n",
        "from rdkit.Chem import Crippen\n",
        "from rdkit.Chem import Lipinski\n",
        "from rdkit.Chem import AllChem\n",
        "from rdkit.Chem import MolSurf\n",
        "\n",
        "import torch\n",
        "import torch.nn as nn\n",
        "import torch.nn.functional as F\n",
        "import torch_geometric.nn as geonn"
      ],
      "execution_count": 5,
      "outputs": []
    },
    {
      "cell_type": "markdown",
      "metadata": {
        "id": "bHza2GsFoAih"
      },
      "source": [
        "# 1. Load DataSet & preprocessing \n",
        "\n",
        "\n",
        "---\n",
        "\n",
        "사용할 데이터를 불러오고, 학습에 사용할 DataSet으로 구성\n",
        "\n"
      ]
    },
    {
      "cell_type": "code",
      "metadata": {
        "id": "O8s5EcK_3Pns"
      },
      "source": [
        "# Load node Feature Table \n",
        "def get_elem_feats():\n",
        "    # 기존 Preprocessing 을 수행하지 않은 데이터를 그대로 사용하던 코드 \n",
        "    # tb_atom_feats = get_table('elements')\n",
        "    # elem_feats = numpy.nan_to_num(numpy.array(tb_atom_feats[elem_feat_names]))\n",
        "\n",
        "    tb_atom_feats = pd.read_excel(\"/content/drive/MyDrive/0_한동생활/2020-2.5 겨울방학/2_GNN/data/LOHC_MLproject_POSTECH/final_mendel.xlsx\")\n",
        "    elem_feats = np.array(tb_atom_feats[elem_feat_names])\n",
        "    return elem_feats\n",
        "\n",
        "# Load smiles Data \n",
        "def load_dataset(path_user_dataset):\n",
        "    elem_feats = get_elem_feats()\n",
        "    list_mols = np.zeros((1,2))\n",
        "    id_target = np.array(pd.read_excel(path_user_dataset))\n",
        "\n",
        "    for i in tqdm(range(0, id_target.shape[0])):\n",
        "        mol = smiles_to_mol_graph(elem_feats, id_target[i, 0], idx=i, target=id_target[i, 1])\n",
        "\n",
        "        if mol is not None:\n",
        "          sample = np.array([id_target[i, 0], mol])\n",
        "          list_mols = np.append(list_mols,\n",
        "                                np.expand_dims(sample, axis=0),\n",
        "                                axis=0)\n",
        "\n",
        "    return list_mols[1:]\n",
        "\n",
        "# Convert smiles to torch embedding molecular features\n",
        "def smiles_to_mol_graph(elem_feats, smiles, idx, target):\n",
        "    try:\n",
        "        mol = Chem.MolFromSmiles(smiles)\n",
        "        adj_mat = Chem.GetAdjacencyMatrix(mol)\n",
        "        # adding Identity Matrix \n",
        "        # adj_mat = adj_mat + numpy.eye(len(adj_mat)) \n",
        "        atom_feats = list()\n",
        "        bonds = list()\n",
        "\n",
        "        for atom in mol.GetAtoms():\n",
        "            atom_feats.append(elem_feats[atom.GetAtomicNum() - 1, :])\n",
        "\n",
        "        for i in range(0, mol.GetNumAtoms()):\n",
        "            for j in range(0, mol.GetNumAtoms()):\n",
        "                if adj_mat[i, j] == 1:\n",
        "                    bonds.append([i, j])\n",
        "\n",
        "        if len(bonds) == 0:\n",
        "            return None\n",
        "\n",
        "        atom_feats = torch.tensor(atom_feats, dtype=torch.float)\n",
        "        bonds = torch.tensor(bonds, dtype=torch.long).t().contiguous()\n",
        "        y = torch.tensor(target, dtype=torch.float).view(1, 1)\n",
        "        # for eGCN \n",
        "        MW = torch.tensor(ExactMolWt(mol)).view(1, 1)\n",
        "        LOGP = torch.tensor(Crippen.MolLogP(mol)).view(1, 1)\n",
        "        HBA = torch.tensor(Lipinski.NumHAcceptors(mol)).view(1, 1)\n",
        "        HBD = torch.tensor(Lipinski.NumHDonors(mol)).view(1, 1)\n",
        "        rotable = torch.tensor(Lipinski.NumRotatableBonds(mol)).view(1, 1)\n",
        "        amide = torch.tensor(AllChem.CalcNumAmideBonds(mol)).view(1, 1)\n",
        "        bridge = torch.tensor(AllChem.CalcNumBridgeheadAtoms(mol)).view(1, 1)\n",
        "        heteroA = torch.tensor(Lipinski.NumHeteroatoms(mol)).view(1, 1)\n",
        "        heavy = torch.tensor(Lipinski.HeavyAtomCount(mol)).view(1, 1)\n",
        "        spiro = torch.tensor(AllChem.CalcNumSpiroAtoms(mol)).view(1, 1)\n",
        "        FCSP3 = torch.tensor(AllChem.CalcFractionCSP3(mol)).view(1, 1)\n",
        "        ring = torch.tensor(Lipinski.RingCount(mol)).view(1, 1)\n",
        "        Aliphatic = torch.tensor(AllChem.CalcNumAliphaticRings(mol)).view(1, 1)\n",
        "        aromatic = torch.tensor(AllChem.CalcNumAromaticRings(mol)).view(1, 1)\n",
        "        saturated = torch.tensor(AllChem.CalcNumSaturatedRings(mol)).view(1, 1)\n",
        "        heteroR = torch.tensor(AllChem.CalcNumHeterocycles(mol)).view(1, 1)\n",
        "        TPSA = torch.tensor(MolSurf.TPSA(mol)).view(1, 1)\n",
        "        valence = torch.tensor(desc.NumValenceElectrons(mol)).view(1, 1)\n",
        "        mr = torch.tensor(Crippen.MolMR(mol)).view(1, 1)\n",
        "\n",
        "        return Data(x=atom_feats, y=y, edge_index=bonds, idx=idx,\n",
        "                    MW=MW, LOGP=LOGP, HBA=HBA, HBD=HBD, rotable=rotable, amide=amide, bridge=bridge, heteroA=heteroA, heavy=heavy, spiro=spiro, FCSP3=FCSP3, ring=ring, Aliphatic=Aliphatic, aromatic=aromatic, saturated=saturated, heteroR=heteroR, TPSA=TPSA, valence=valence, mr=mr)\n",
        "    except:\n",
        "        return \n"
      ],
      "execution_count": 6,
      "outputs": []
    },
    {
      "cell_type": "code",
      "metadata": {
        "id": "iTBVWrHPrXlS"
      },
      "source": [
        "# Node(Atomic) Features로 사용할 columns 지정\n",
        "elem_feat_names = ['atomic_weight', 'atomic_radius', 'atomic_volume', 'dipole_polarizability',\n",
        "                   'fusion_heat', 'thermal_conductivity', 'vdw_radius', 'en_pauling',\n",
        "                    'boiling_point','electron_affinity','en_allen','en_ghosh']\n",
        "n_atom_feats = len(elem_feat_names)"
      ],
      "execution_count": 7,
      "outputs": []
    },
    {
      "cell_type": "code",
      "metadata": {
        "colab": {
          "base_uri": "https://localhost:8080/"
        },
        "id": "bBly4q-32rWv",
        "outputId": "66f1e243-9053-4c5a-8724-73169428a522"
      },
      "source": [
        "# Load dataset\n",
        "DataPath = \"/content/drive/MyDrive/0_한동생활/2020-2.5 겨울방학/2_GNN/data/LOHC_MLproject_POSTECH/Dehydrogenation3.xlsx\"\n",
        "\n",
        "print('Load molecular structures...')\n",
        "dataSet = load_dataset(DataPath)\n",
        "print(dataSet)"
      ],
      "execution_count": 8,
      "outputs": [
        {
          "output_type": "stream",
          "text": [
            "Load molecular structures...\n"
          ],
          "name": "stdout"
        },
        {
          "output_type": "stream",
          "text": [
            "  0%|          | 0/1465 [00:00<?, ?it/s]/usr/local/lib/python3.6/dist-packages/ipykernel_launcher.py:21: VisibleDeprecationWarning: Creating an ndarray from ragged nested sequences (which is a list-or-tuple of lists-or-tuples-or ndarrays with different lengths or shapes) is deprecated. If you meant to do this, you must specify 'dtype=object' when creating the ndarray\n",
            "100%|██████████| 1465/1465 [00:04<00:00, 346.76it/s]"
          ],
          "name": "stderr"
        },
        {
          "output_type": "stream",
          "text": [
            "[['Cc1ccccc1'\n",
            "  Data(Aliphatic=[1, 1], FCSP3=[1, 1], HBA=[1, 1], HBD=[1, 1], LOGP=[1, 1], MW=[1, 1], TPSA=[1, 1], amide=[1, 1], aromatic=[1, 1], bridge=[1, 1], edge_index=[2, 14], heavy=[1, 1], heteroA=[1, 1], heteroR=[1, 1], idx=0, mr=[1, 1], ring=[1, 1], rotable=[1, 1], saturated=[1, 1], spiro=[1, 1], valence=[1, 1], x=[7, 12], y=[1, 1])]\n",
            " ['CCc1ccccc1'\n",
            "  Data(Aliphatic=[1, 1], FCSP3=[1, 1], HBA=[1, 1], HBD=[1, 1], LOGP=[1, 1], MW=[1, 1], TPSA=[1, 1], amide=[1, 1], aromatic=[1, 1], bridge=[1, 1], edge_index=[2, 16], heavy=[1, 1], heteroA=[1, 1], heteroR=[1, 1], idx=1, mr=[1, 1], ring=[1, 1], rotable=[1, 1], saturated=[1, 1], spiro=[1, 1], valence=[1, 1], x=[8, 12], y=[1, 1])]\n",
            " ['O=C(O)c1ccccc1'\n",
            "  Data(Aliphatic=[1, 1], FCSP3=[1, 1], HBA=[1, 1], HBD=[1, 1], LOGP=[1, 1], MW=[1, 1], TPSA=[1, 1], amide=[1, 1], aromatic=[1, 1], bridge=[1, 1], edge_index=[2, 18], heavy=[1, 1], heteroA=[1, 1], heteroR=[1, 1], idx=2, mr=[1, 1], ring=[1, 1], rotable=[1, 1], saturated=[1, 1], spiro=[1, 1], valence=[1, 1], x=[9, 12], y=[1, 1])]\n",
            " ...\n",
            " ['c1ccc(C)cc1Cc(c2)ccc(c23)cccc3'\n",
            "  Data(Aliphatic=[1, 1], FCSP3=[1, 1], HBA=[1, 1], HBD=[1, 1], LOGP=[1, 1], MW=[1, 1], TPSA=[1, 1], amide=[1, 1], aromatic=[1, 1], bridge=[1, 1], edge_index=[2, 40], heavy=[1, 1], heteroA=[1, 1], heteroR=[1, 1], idx=1462, mr=[1, 1], ring=[1, 1], rotable=[1, 1], saturated=[1, 1], spiro=[1, 1], valence=[1, 1], x=[18, 12], y=[1, 1])]\n",
            " ['c1cc(C)ccc1Cc2cccc(c23)cccc3'\n",
            "  Data(Aliphatic=[1, 1], FCSP3=[1, 1], HBA=[1, 1], HBD=[1, 1], LOGP=[1, 1], MW=[1, 1], TPSA=[1, 1], amide=[1, 1], aromatic=[1, 1], bridge=[1, 1], edge_index=[2, 40], heavy=[1, 1], heteroA=[1, 1], heteroR=[1, 1], idx=1463, mr=[1, 1], ring=[1, 1], rotable=[1, 1], saturated=[1, 1], spiro=[1, 1], valence=[1, 1], x=[18, 12], y=[1, 1])]\n",
            " ['c1cc(C)ccc1Cc(c2)ccc(c23)cccc3'\n",
            "  Data(Aliphatic=[1, 1], FCSP3=[1, 1], HBA=[1, 1], HBD=[1, 1], LOGP=[1, 1], MW=[1, 1], TPSA=[1, 1], amide=[1, 1], aromatic=[1, 1], bridge=[1, 1], edge_index=[2, 40], heavy=[1, 1], heteroA=[1, 1], heteroR=[1, 1], idx=1464, mr=[1, 1], ring=[1, 1], rotable=[1, 1], saturated=[1, 1], spiro=[1, 1], valence=[1, 1], x=[18, 12], y=[1, 1])]]\n"
          ],
          "name": "stdout"
        },
        {
          "output_type": "stream",
          "text": [
            "\n"
          ],
          "name": "stderr"
        }
      ]
    },
    {
      "cell_type": "markdown",
      "metadata": {
        "id": "AafxRpPC-3KQ"
      },
      "source": [
        "# 2. Train, Validate and Test \n",
        "\n",
        "\n",
        "---\n",
        "\n",
        "학습에 사용될 함수 정의\n",
        "\n"
      ]
    },
    {
      "cell_type": "code",
      "metadata": {
        "id": "uYxFmLF24iTo"
      },
      "source": [
        "def train(model, optimizer, data_loader, criterion):\n",
        "    model.train()\n",
        "    train_loss = 0\n",
        "\n",
        "    for i, (batch) in enumerate(data_loader):\n",
        "        \n",
        "        pred = model(batch.to(DEVICE))\n",
        "        loss = criterion(batch.y, pred)\n",
        "        optimizer.zero_grad()\n",
        "        loss.backward()\n",
        "        optimizer.step()\n",
        "\n",
        "        train_loss += loss.item()\n",
        "\n",
        "    return train_loss / len(data_loader)\n",
        "\n",
        "def validate(model, data_loader, criterion):\n",
        "  model.eval()\n",
        "  val_loss =0\n",
        "  \n",
        "  with torch.no_grad():\n",
        "    for i, (batch) in enumerate(data_loader):\n",
        "        preds = model(batch.to(DEVICE))\n",
        "        loss = criterion(preds, batch.y)\n",
        "        val_loss += loss.item()\n",
        "\n",
        "    val_loss = val_loss / len(data_loader)\n",
        "  \n",
        "  return val_loss\n",
        "\n",
        "def test(model, data_loader):\n",
        "    model.eval()\n",
        "    list_preds = list()\n",
        "    \n",
        "    with torch.no_grad():\n",
        "        for batch in data_loader:\n",
        "            preds = model(batch.to(DEVICE))\n",
        "            list_preds.append(preds)\n",
        "\n",
        "    return torch.cat(list_preds, dim=0).cpu().numpy()"
      ],
      "execution_count": 9,
      "outputs": []
    },
    {
      "cell_type": "markdown",
      "metadata": {
        "id": "E6VsgZqW79kN"
      },
      "source": [
        "# 3. Model Construction\n",
        "\n",
        "\n",
        "---\n",
        "\n",
        "학습에 사용할 모델의 구조 설계\n",
        "\n"
      ]
    },
    {
      "cell_type": "code",
      "metadata": {
        "id": "9sptDoff4Uwj"
      },
      "source": [
        "class EGCN(nn.Module):\n",
        "    # extended graph convolutional network\n",
        "    def __init__(self, args):\n",
        "        super(EGCN, self).__init__()\n",
        "        self.input_dim = args.input_dim\n",
        "        self.hidden_dim = args.hidden_dim\n",
        "        self.out_dim = args.out_dim\n",
        "        \n",
        "        # self.Norm = \"Layer\"\n",
        "        # self.sc = \"gated\"\n",
        "        # self.attention = False\n",
        "        self.drop_p = args.drop_p\n",
        "\n",
        "        self.gc1 = geonn.GCNConv(self.input_dim, self.hidden_dim)\n",
        "        self.norm1 = geonn.LayerNorm(self.hidden_dim)\n",
        "\n",
        "        self.gc2 = geonn.GCNConv(self.hidden_dim, self.hidden_dim)\n",
        "        self.norm2 = geonn.LayerNorm(self.hidden_dim)\n",
        "\n",
        "        self.gc3 = geonn.GCNConv(self.hidden_dim, self.hidden_dim)\n",
        "        self.norm3 = geonn.LayerNorm(self.hidden_dim)\n",
        "\n",
        "        self.fc1 = nn.Linear(self.hidden_dim + 19, self.hidden_dim*2)\n",
        "        self.drop1 = nn.Dropout(p= self.drop_p)\n",
        "\n",
        "        self.fc2 = nn.Linear(self.hidden_dim*2, self.hidden_dim*2)\n",
        "        self.drop2 = nn.Dropout(p= self.drop_p)\n",
        "\n",
        "        self.fc3 = nn.Linear(self.hidden_dim*2, self.out_dim)\n",
        "\n",
        "    def forward(self, g):\n",
        "        # Conv Layer 1\n",
        "        h1 = self.gc1(g.x, g.edge_index)\n",
        "        h1 = self.norm1(h1)\n",
        "        h1 = F.relu(h1)\n",
        "\n",
        "        # Conv Layer 2\n",
        "        h2 = self.gc2(h1, g.edge_index)\n",
        "        h2 = self.norm2(h2)\n",
        "        h2 = F.relu(h2)\n",
        "\n",
        "        # Conv Layer 3\n",
        "        h3 = self.gc3(h2, g.edge_index)\n",
        "        h3 = self.norm3(h3)\n",
        "        h3 = F.relu(h3)\n",
        "\n",
        "        # Read Out Layer \n",
        "        hg = geonn.global_mean_pool(h3, g.batch)\n",
        "\n",
        "        # eGCN, concat Layer\n",
        "        hg = torch.cat([hg, g.MW, g.LOGP, g.HBA, g.HBD, g.rotable, g.amide, g.bridge, g.heteroA, g.heavy, g.spiro, g.FCSP3, g.ring, g.Aliphatic, g.aromatic, g.saturated, g.heteroR, g.TPSA, g.valence,g.mr],\n",
        "                       dim=1)\n",
        "        \n",
        "        # FCN Layer 1 \n",
        "        hg = self.fc1(hg)\n",
        "        if self.drop_p :\n",
        "         hg = self.drop1(hg)\n",
        "        hg = F.relu(hg)\n",
        "\n",
        "        # FCN Layer 2 \n",
        "        hg = self.fc2(hg)\n",
        "        if self.drop_p :\n",
        "          hg = self.drop2(hg)\n",
        "        hg = F.relu(hg)\n",
        "\n",
        "        # FCN Layer 3 \n",
        "        out = self.fc3(hg)\n",
        "\n",
        "        return out"
      ],
      "execution_count": 31,
      "outputs": []
    },
    {
      "cell_type": "code",
      "metadata": {
        "id": "iZLOZywk8uyk"
      },
      "source": [
        "class GatedSkipConnection(nn.Module):\n",
        "    \n",
        "    def __init__(self, in_dim, out_dim):\n",
        "        super(GatedSkipConnection, self).__init__()\n",
        "        \n",
        "        self.in_dim = in_dim\n",
        "        self.out_dim = out_dim\n",
        "        \n",
        "        self.linear = nn.Linear(in_dim, out_dim, bias=False)\n",
        "        self.linear_coef_in = nn.Linear(out_dim, out_dim)\n",
        "        self.linear_coef_out = nn.Linear(out_dim, out_dim)\n",
        "        self.sigmoid = nn.Sigmoid()\n",
        "        \n",
        "    def forward(self, in_x, out_x):\n",
        "        if (self.in_dim != self.out_dim):\n",
        "            in_x = self.linear(in_x)\n",
        "        z = self.gate_coefficient(in_x, out_x)\n",
        "        out = torch.mul(z, out_x) + torch.mul(1.0-z, in_x)\n",
        "        return out\n",
        "            \n",
        "    def gate_coefficient(self, in_x, out_x):\n",
        "        x1 = self.linear_coef_in(in_x)\n",
        "        x2 = self.linear_coef_out(out_x)\n",
        "        return self.sigmoid(x1+x2)\n",
        "        \n",
        "class SkipConnection(nn.Module):\n",
        "    \n",
        "    def __init__(self, in_dim, out_dim):\n",
        "        super(SkipConnection, self).__init__()\n",
        "        \n",
        "        self.in_dim = in_dim\n",
        "        self.out_dim = out_dim\n",
        "        \n",
        "        self.linear = nn.Linear(in_dim, out_dim, bias=False)\n",
        "        \n",
        "    def forward(self, in_x, out_x):\n",
        "        if (self.in_dim != self.out_dim):\n",
        "            in_x = self.linear(in_x)\n",
        "        out = in_x + out_x\n",
        "        return out"
      ],
      "execution_count": 32,
      "outputs": []
    },
    {
      "cell_type": "markdown",
      "metadata": {
        "id": "zSSCGtDd_orf"
      },
      "source": [
        "# 4. Experiment\n",
        "\n",
        "\n",
        "---\n",
        "Set up Hyperparameter, learning param.\n",
        "\n",
        "\n",
        "\n",
        "\n"
      ]
    },
    {
      "cell_type": "code",
      "metadata": {
        "id": "-iiLVX0hbNtg"
      },
      "source": [
        "import argparse\n",
        "\n",
        "paser = argparse.ArgumentParser()\n",
        "args = paser.parse_args(\"\")"
      ],
      "execution_count": 33,
      "outputs": []
    },
    {
      "cell_type": "code",
      "metadata": {
        "id": "251s1poK2qVU"
      },
      "source": [
        "# Setting\n",
        "\n",
        "# 1. Model \n",
        "args.input_dim = n_atom_feats\n",
        "args.hidden_dim = 256\n",
        "args.out_dim = 1 \n",
        "\n",
        "# args.Norm = \"Layer\"\n",
        "# args.sc = \"gated\"\n",
        "# args.attention = False\n",
        "args.drop_p = 0.5\n",
        "\n",
        "# 2. learing \n",
        "args.batch_size = 32\n",
        "args.init_lr = 0.001\n",
        "args.l2_coeff = 0.0\n",
        "args.n_epochs = 30000"
      ],
      "execution_count": 34,
      "outputs": []
    },
    {
      "cell_type": "code",
      "metadata": {
        "id": "k5r7Ng_u4PJD",
        "colab": {
          "base_uri": "https://localhost:8080/"
        },
        "outputId": "9f5859e5-3159-4729-c7d2-9b5efad4f3f6"
      },
      "source": [
        "args.MODEL_NAME = 'eGCN' \n",
        "DEVICE = torch.device(\"cuda\" if torch.cuda.is_available() else \"cpu\")\n",
        "args.DEVICE = DEVICE\n",
        "print(\"MODEL_NAME = {}, DEVICE = {}\".format(args.MODEL_NAME,args.DEVICE))\n",
        "\n",
        "# model = EGCN(input_dim=input_dim, hidden_dim=hidden_dim, out_dim=out_dim).to(DEVICE)\n",
        "model = EGCN(args).to(DEVICE)"
      ],
      "execution_count": 35,
      "outputs": [
        {
          "output_type": "stream",
          "text": [
            "MODEL_NAME = eGCN, DEVICE = cuda\n"
          ],
          "name": "stdout"
        }
      ]
    },
    {
      "cell_type": "code",
      "metadata": {
        "id": "nHM6IVSe4T1n"
      },
      "source": [
        "optimizer = torch.optim.Adam(model.parameters(), lr=args.init_lr, weight_decay=args.l2_coeff)\n",
        "criterion = torch.nn.L1Loss()"
      ],
      "execution_count": 36,
      "outputs": []
    },
    {
      "cell_type": "code",
      "metadata": {
        "id": "zCVYpVOY3jf1"
      },
      "source": [
        "# Generate training and test datasets\n",
        "\n",
        "# train : validation : test = 8 : 1 : 1 \n",
        "train_data, unseen_data = train_test_split(dataSet,test_size=0.2, random_state=400)\n",
        "validate_data, test_data = train_test_split(unseen_data, test_size=0.5, random_state=400)\n",
        "\n",
        "train_smiles = train_data[:, 0]\n",
        "validate_smiles = validate_data[:, 0]\n",
        "test_smiles = test_data[:, 0]\n",
        "\n",
        "train_loader = DataLoader(train_data[:, 1], batch_size=args.batch_size, shuffle=True, drop_last=True)\n",
        "validate_loader = DataLoader(validate_data[:, 1], batch_size=100, drop_last=False)\n",
        "test_loader = DataLoader(test_data[:, 1], batch_size=100, drop_last=False)\n",
        "\n",
        "train_targets = np.array([x.y.item() for x in train_data[:,1]]).reshape(-1, 1)\n",
        "validate_targets = np.array([x.y.item() for x in validate_data[:,1]]).reshape(-1, 1)\n",
        "test_targets = np.array([x.y.item() for x in test_data[:,1]]).reshape(-1, 1)"
      ],
      "execution_count": 37,
      "outputs": []
    },
    {
      "cell_type": "code",
      "metadata": {
        "id": "4UZuQGiEmNVm"
      },
      "source": [
        "# utility function to measure time\n",
        "import time\n",
        "import math\n",
        "\n",
        "all_seq = np.empty((1,4), dtype=float)\n",
        "train_losses = []\n",
        "vali_losses = [] \n",
        "\n",
        "def timeSince(since):\n",
        "    now = time.time()\n",
        "    s = now - since\n",
        "    m = math.floor(s / 60)\n",
        "    s -= m * 60\n",
        "    return '%dm %ds' % (m, s)"
      ],
      "execution_count": 38,
      "outputs": []
    },
    {
      "cell_type": "code",
      "metadata": {
        "colab": {
          "base_uri": "https://localhost:8080/",
          "height": 511
        },
        "id": "r2GaM3uN4oW_",
        "outputId": "d22dbba2-c22b-48e9-8335-8902a6aead96"
      },
      "source": [
        "# Train graph neural network (GNN)\n",
        "print('Train the GNN-based predictor...')\n",
        "start = time.time()\n",
        "for i in range(0, args.n_epochs):\n",
        "    train_loss = train(model, optimizer, train_loader, criterion)\n",
        "    vali_loss = validate(model, validate_loader, criterion)\n",
        "    print('Time : {:10s} | Epoch [{}/{}]\\tTrain loss: {:.4f}\\t Vali loss: {:0.4f}'.format(timeSince(start),i + 1, args.n_epochs, train_loss, vali_loss))\n",
        "    \n",
        "\n",
        "    # Test the trained GNN\n",
        "\n",
        "    train_losses.append(train_loss)\n",
        "    vali_losses.append(vali_loss)\n",
        "    if (i+1) % 25 == 0 : \n",
        "      # model.eval()\n",
        "      preds = test(model, test_loader)\n",
        "      test_mae = np.mean(np.abs(test_targets - preds))\n",
        "      test_std = np.std(test_targets - preds)\n",
        "\n",
        "      r2 = r2_score(test_targets, preds)\n",
        "      print(\"------------------Train Test------------------\")\n",
        "      print(\"Now Epoch [{}/{}]\".format(i+1, n_epochs))\n",
        "      print('Test MAE: {:.4f}\\t Test Std.: {:.4f}\\tTest R2 score: {:.4f}'.format(test_mae,test_std, r2))\n",
        "      print(\"----------------------------------------------\")\n",
        "      item = np.array((i+1, test_mae, test_std, r2))\n",
        "      all_seq = np.append(all_seq, np.expand_dims(item, axis=0), axis=0)"
      ],
      "execution_count": 39,
      "outputs": [
        {
          "output_type": "stream",
          "text": [
            "Train the GNN-based predictor...\n",
            "Time : 0m 0s      | Epoch [1/30000]\tTrain loss: 29.5969\t Vali loss: 22.9229\n",
            "Time : 0m 1s      | Epoch [2/30000]\tTrain loss: 20.1410\t Vali loss: 18.3229\n",
            "Time : 0m 1s      | Epoch [3/30000]\tTrain loss: 15.5413\t Vali loss: 19.4001\n",
            "Time : 0m 2s      | Epoch [4/30000]\tTrain loss: 13.0151\t Vali loss: 8.3537\n",
            "Time : 0m 3s      | Epoch [5/30000]\tTrain loss: 11.6789\t Vali loss: 8.2234\n"
          ],
          "name": "stdout"
        },
        {
          "output_type": "error",
          "ename": "KeyboardInterrupt",
          "evalue": "ignored",
          "traceback": [
            "\u001b[0;31m---------------------------------------------------------------------------\u001b[0m",
            "\u001b[0;31mKeyboardInterrupt\u001b[0m                         Traceback (most recent call last)",
            "\u001b[0;32m<ipython-input-39-551f5a3cc8f4>\u001b[0m in \u001b[0;36m<module>\u001b[0;34m()\u001b[0m\n\u001b[1;32m      3\u001b[0m \u001b[0mstart\u001b[0m \u001b[0;34m=\u001b[0m \u001b[0mtime\u001b[0m\u001b[0;34m.\u001b[0m\u001b[0mtime\u001b[0m\u001b[0;34m(\u001b[0m\u001b[0;34m)\u001b[0m\u001b[0;34m\u001b[0m\u001b[0;34m\u001b[0m\u001b[0m\n\u001b[1;32m      4\u001b[0m \u001b[0;32mfor\u001b[0m \u001b[0mi\u001b[0m \u001b[0;32min\u001b[0m \u001b[0mrange\u001b[0m\u001b[0;34m(\u001b[0m\u001b[0;36m0\u001b[0m\u001b[0;34m,\u001b[0m \u001b[0margs\u001b[0m\u001b[0;34m.\u001b[0m\u001b[0mn_epochs\u001b[0m\u001b[0;34m)\u001b[0m\u001b[0;34m:\u001b[0m\u001b[0;34m\u001b[0m\u001b[0;34m\u001b[0m\u001b[0m\n\u001b[0;32m----> 5\u001b[0;31m     \u001b[0mtrain_loss\u001b[0m \u001b[0;34m=\u001b[0m \u001b[0mtrain\u001b[0m\u001b[0;34m(\u001b[0m\u001b[0mmodel\u001b[0m\u001b[0;34m,\u001b[0m \u001b[0moptimizer\u001b[0m\u001b[0;34m,\u001b[0m \u001b[0mtrain_loader\u001b[0m\u001b[0;34m,\u001b[0m \u001b[0mcriterion\u001b[0m\u001b[0;34m)\u001b[0m\u001b[0;34m\u001b[0m\u001b[0;34m\u001b[0m\u001b[0m\n\u001b[0m\u001b[1;32m      6\u001b[0m     \u001b[0mvali_loss\u001b[0m \u001b[0;34m=\u001b[0m \u001b[0mvalidate\u001b[0m\u001b[0;34m(\u001b[0m\u001b[0mmodel\u001b[0m\u001b[0;34m,\u001b[0m \u001b[0mvalidate_loader\u001b[0m\u001b[0;34m,\u001b[0m \u001b[0mcriterion\u001b[0m\u001b[0;34m)\u001b[0m\u001b[0;34m\u001b[0m\u001b[0;34m\u001b[0m\u001b[0m\n\u001b[1;32m      7\u001b[0m     \u001b[0mprint\u001b[0m\u001b[0;34m(\u001b[0m\u001b[0;34m'Time : {:10s} | Epoch [{}/{}]\\tTrain loss: {:.4f}\\t Vali loss: {:0.4f}'\u001b[0m\u001b[0;34m.\u001b[0m\u001b[0mformat\u001b[0m\u001b[0;34m(\u001b[0m\u001b[0mtimeSince\u001b[0m\u001b[0;34m(\u001b[0m\u001b[0mstart\u001b[0m\u001b[0;34m)\u001b[0m\u001b[0;34m,\u001b[0m\u001b[0mi\u001b[0m \u001b[0;34m+\u001b[0m \u001b[0;36m1\u001b[0m\u001b[0;34m,\u001b[0m \u001b[0margs\u001b[0m\u001b[0;34m.\u001b[0m\u001b[0mn_epochs\u001b[0m\u001b[0;34m,\u001b[0m \u001b[0mtrain_loss\u001b[0m\u001b[0;34m,\u001b[0m \u001b[0mvali_loss\u001b[0m\u001b[0;34m)\u001b[0m\u001b[0;34m)\u001b[0m\u001b[0;34m\u001b[0m\u001b[0;34m\u001b[0m\u001b[0m\n",
            "\u001b[0;32m<ipython-input-9-a1499098939c>\u001b[0m in \u001b[0;36mtrain\u001b[0;34m(model, optimizer, data_loader, criterion)\u001b[0m\n\u001b[1;32m      8\u001b[0m         \u001b[0mloss\u001b[0m \u001b[0;34m=\u001b[0m \u001b[0mcriterion\u001b[0m\u001b[0;34m(\u001b[0m\u001b[0mbatch\u001b[0m\u001b[0;34m.\u001b[0m\u001b[0my\u001b[0m\u001b[0;34m,\u001b[0m \u001b[0mpred\u001b[0m\u001b[0;34m)\u001b[0m\u001b[0;34m\u001b[0m\u001b[0;34m\u001b[0m\u001b[0m\n\u001b[1;32m      9\u001b[0m         \u001b[0moptimizer\u001b[0m\u001b[0;34m.\u001b[0m\u001b[0mzero_grad\u001b[0m\u001b[0;34m(\u001b[0m\u001b[0;34m)\u001b[0m\u001b[0;34m\u001b[0m\u001b[0;34m\u001b[0m\u001b[0m\n\u001b[0;32m---> 10\u001b[0;31m         \u001b[0mloss\u001b[0m\u001b[0;34m.\u001b[0m\u001b[0mbackward\u001b[0m\u001b[0;34m(\u001b[0m\u001b[0;34m)\u001b[0m\u001b[0;34m\u001b[0m\u001b[0;34m\u001b[0m\u001b[0m\n\u001b[0m\u001b[1;32m     11\u001b[0m         \u001b[0moptimizer\u001b[0m\u001b[0;34m.\u001b[0m\u001b[0mstep\u001b[0m\u001b[0;34m(\u001b[0m\u001b[0;34m)\u001b[0m\u001b[0;34m\u001b[0m\u001b[0;34m\u001b[0m\u001b[0m\n\u001b[1;32m     12\u001b[0m \u001b[0;34m\u001b[0m\u001b[0m\n",
            "\u001b[0;32m/usr/local/lib/python3.6/dist-packages/torch/tensor.py\u001b[0m in \u001b[0;36mbackward\u001b[0;34m(self, gradient, retain_graph, create_graph)\u001b[0m\n\u001b[1;32m    219\u001b[0m                 \u001b[0mretain_graph\u001b[0m\u001b[0;34m=\u001b[0m\u001b[0mretain_graph\u001b[0m\u001b[0;34m,\u001b[0m\u001b[0;34m\u001b[0m\u001b[0;34m\u001b[0m\u001b[0m\n\u001b[1;32m    220\u001b[0m                 create_graph=create_graph)\n\u001b[0;32m--> 221\u001b[0;31m         \u001b[0mtorch\u001b[0m\u001b[0;34m.\u001b[0m\u001b[0mautograd\u001b[0m\u001b[0;34m.\u001b[0m\u001b[0mbackward\u001b[0m\u001b[0;34m(\u001b[0m\u001b[0mself\u001b[0m\u001b[0;34m,\u001b[0m \u001b[0mgradient\u001b[0m\u001b[0;34m,\u001b[0m \u001b[0mretain_graph\u001b[0m\u001b[0;34m,\u001b[0m \u001b[0mcreate_graph\u001b[0m\u001b[0;34m)\u001b[0m\u001b[0;34m\u001b[0m\u001b[0;34m\u001b[0m\u001b[0m\n\u001b[0m\u001b[1;32m    222\u001b[0m \u001b[0;34m\u001b[0m\u001b[0m\n\u001b[1;32m    223\u001b[0m     \u001b[0;32mdef\u001b[0m \u001b[0mregister_hook\u001b[0m\u001b[0;34m(\u001b[0m\u001b[0mself\u001b[0m\u001b[0;34m,\u001b[0m \u001b[0mhook\u001b[0m\u001b[0;34m)\u001b[0m\u001b[0;34m:\u001b[0m\u001b[0;34m\u001b[0m\u001b[0;34m\u001b[0m\u001b[0m\n",
            "\u001b[0;32m/usr/local/lib/python3.6/dist-packages/torch/autograd/__init__.py\u001b[0m in \u001b[0;36mbackward\u001b[0;34m(tensors, grad_tensors, retain_graph, create_graph, grad_variables)\u001b[0m\n\u001b[1;32m    130\u001b[0m     Variable._execution_engine.run_backward(\n\u001b[1;32m    131\u001b[0m         \u001b[0mtensors\u001b[0m\u001b[0;34m,\u001b[0m \u001b[0mgrad_tensors_\u001b[0m\u001b[0;34m,\u001b[0m \u001b[0mretain_graph\u001b[0m\u001b[0;34m,\u001b[0m \u001b[0mcreate_graph\u001b[0m\u001b[0;34m,\u001b[0m\u001b[0;34m\u001b[0m\u001b[0;34m\u001b[0m\u001b[0m\n\u001b[0;32m--> 132\u001b[0;31m         allow_unreachable=True)  # allow_unreachable flag\n\u001b[0m\u001b[1;32m    133\u001b[0m \u001b[0;34m\u001b[0m\u001b[0m\n\u001b[1;32m    134\u001b[0m \u001b[0;34m\u001b[0m\u001b[0m\n",
            "\u001b[0;31mKeyboardInterrupt\u001b[0m: "
          ]
        }
      ]
    },
    {
      "cell_type": "markdown",
      "metadata": {
        "id": "Tu0tw2mapmgV"
      },
      "source": [
        "잠정적으로 효과가 없음으로 판단, 모델 수정은 추후에 하기로 결론 \n"
      ]
    },
    {
      "cell_type": "markdown",
      "metadata": {
        "id": "20-Jdik6FD2b"
      },
      "source": [
        "# 5. Cross Validation \n",
        "---\n"
      ]
    },
    {
      "cell_type": "code",
      "metadata": {
        "id": "hpUj0X82po90"
      },
      "source": [
        "def crossValidation(data = None, n_splits = 5, random_state=400, args=None):\n",
        "\n",
        "    from sklearn.model_selection import KFold    \n",
        "    kfold = KFold(n_splits=n_splits, random_state=random_state, shuffle=True)\n",
        "\n",
        "    valid_mae = 0\n",
        "\n",
        "    for idx, (train_index, validate_index) in enumerate(kfold.split(data)): #cross validation, k=5\n",
        "        \n",
        "        print(\"\"\"\n",
        "\n",
        "        --- now validation Round : {} ---\"\"\".format(idx+1), end=\"\")\n",
        "\n",
        "        valid_train_data=list()\n",
        "        validate_data=list()\n",
        "        \n",
        "        for i in train_index:\n",
        "            valid_train_data.append(data[i])\n",
        "        for i in validate_index:  \n",
        "            validate_data.append(data[i])\n",
        "\n",
        "        # MAE 모니터링을 위한 Extract \n",
        "        valid_targets=np.array([x.y.item() for x in validate_data]).reshape(-1, 1)\n",
        "\n",
        "        # KFold에 의해 나누어진 코드들을 학습에 사용하기 위해서 데이터 셋으로 변환 \n",
        "        valid_train_loader = DataLoader(valid_train_data, batch_size=args.batch_size, shuffle=True)\n",
        "        valid_loader = DataLoader(validate_data, batch_size=100)\n",
        "\n",
        "        # 모델 초기화 \n",
        "        model = EGCN(args).to(args.DEVICE)\n",
        "        optimizer = torch.optim.Adam(model.parameters(), lr=args.init_lr, weight_decay=args.l2_coeff)\n",
        "        criterion = torch.nn.L1Loss()\n",
        "\n",
        "        train_losses = []\n",
        "        all_seq = np.empty((1,4), dtype=float)\n",
        "        stage_indicator = \"Round : \" + str(idx+1)\n",
        "        for i in tqdm(range(0, args.n_epochs), desc=): #각 cross validation 을 지정된 epoch으로 실행  \n",
        "            train_loss = train(model, optimizer, valid_train_loader, criterion)\n",
        "            train_losses.append(train_loss)\n",
        "\n",
        "            if (i+1) % 25 == 0 :\n",
        "              preds = test(model, valid_loader)\n",
        "              test_mae = np.mean(np.abs(valid_targets - preds))\n",
        "              test_std = np.std(valid_targets - preds)\n",
        "              r2 = r2_score(valid_targets, preds)\n",
        "\n",
        "              item = np.array((i+1, test_mae, test_std, r2))\n",
        "              all_seq = np.append(all_seq, np.expand_dims(item, axis=0), axis=0)\n",
        "              # print()\n",
        "              # print(\"------------------Train Test------------------\")\n",
        "              # print(\"Now Epoch [{}/{}]\".format(i+1, args.n_epochs))\n",
        "              # print('Test MAE: {:.4f}\\t Test Std.: {:.4f}\\tTest R2 score: {:.4f}'.format(test_mae,test_std, r2))\n",
        "              # print(\"----------------------------------------------\")\n",
        "              \n",
        "\n",
        "        preds = test(model, valid_loader)\n",
        "        valid_targets=np.array([x.y.item() for x in validate_data]).reshape(-1, 1)\n",
        "        tmp_mae = np.mean(np.abs(valid_targets - preds))\n",
        "        print(i+1,' validation mae: ',tmp_mae)\n",
        "        valid_mae = valid_mae+tmp_mae\n",
        "\n",
        "        loss_slot.append(train_losses)\n",
        "        eval_slot.append(all_seq)\n",
        "\n",
        "    \n",
        "    print('total mae:',valid_mae,' mean mae:',valid_mae/5)\n",
        "    lr_mae.append(valid_mae/5)# 5번의 cross validation 의 평균을 저장\n",
        "\n",
        "with pandas.ExcelWriter(\"/content/drive/MyDrive/0_workSpace/2_data/[LayerNorm]Train_log.xlsx\") as writer:\n",
        "  stage_Maker = []\n",
        "  for idx, stage in enumerate(loss_slot):\n",
        "    stage_Maker.append(\"Stage\"+str(idx+1))\n",
        "\n",
        "\n",
        "  df = pandas.DataFrame(loss_slot)\n",
        "  df = df.transpose()\n",
        "  df.columns = stage_Maker\n",
        "  df.to_excel(writer, sheet_name=\"Loss\")\n",
        "\n",
        "with pandas.ExcelWriter(\"./content/drive/MyDrive/0_workSpace/2_data/[LayerNorm]Predict_result.xlsx\") as writer:\n",
        "  for idx, stage in enumerate(eval_slot):\n",
        "    df = pandas.DataFrame(eval_slot[idx])\n",
        "    df.columns = [\"epoch\", \"MAE\", \"Std.\", \"R2\"]\n",
        "    \n",
        "    sheet_name = \"Stage\"+str(idx+1)\n",
        "\n",
        "    df.to_excel(writer, sheet_name=sheet_name)"
      ],
      "execution_count": 64,
      "outputs": []
    },
    {
      "cell_type": "code",
      "metadata": {
        "colab": {
          "base_uri": "https://localhost:8080/",
          "height": 1000
        },
        "id": "K2ToVLDUo4f7",
        "outputId": "2c451f80-d88b-4606-e6de-7715aaa2ca21"
      },
      "source": [
        "crossValidation(data = train_data[:,1], n_splits=5, args=args )"
      ],
      "execution_count": 65,
      "outputs": [
        {
          "output_type": "stream",
          "text": [
            "\n",
            "\n",
            "\n",
            "\n",
            "  0%|          | 0/30000 [00:00<?, ?it/s]\u001b[A\u001b[A\u001b[A\u001b[A"
          ],
          "name": "stderr"
        },
        {
          "output_type": "stream",
          "text": [
            "\n",
            "\n",
            "        --- now validation Round : 0 ---"
          ],
          "name": "stdout"
        },
        {
          "output_type": "stream",
          "text": [
            "\n",
            "\n",
            "\n",
            "\n",
            "  0%|          | 1/30000 [00:00<4:00:32,  2.08it/s]\u001b[A\u001b[A\u001b[A\u001b[A\n",
            "\n",
            "\n",
            "\n",
            "  0%|          | 2/30000 [00:00<3:59:58,  2.08it/s]\u001b[A\u001b[A\u001b[A\u001b[A\n",
            "\n",
            "\n",
            "\n",
            "  0%|          | 3/30000 [00:01<4:00:09,  2.08it/s]\u001b[A\u001b[A\u001b[A\u001b[A\n",
            "\n",
            "\n",
            "\n",
            "  0%|          | 4/30000 [00:01<4:02:21,  2.06it/s]\u001b[A\u001b[A\u001b[A\u001b[A\n",
            "\n",
            "\n",
            "\n",
            "  0%|          | 5/30000 [00:02<4:01:45,  2.07it/s]\u001b[A\u001b[A\u001b[A\u001b[A\n",
            "\n",
            "\n",
            "\n",
            "  0%|          | 6/30000 [00:02<4:01:57,  2.07it/s]\u001b[A\u001b[A\u001b[A\u001b[A\n",
            "\n",
            "\n",
            "\n",
            "  0%|          | 7/30000 [00:03<4:01:40,  2.07it/s]\u001b[A\u001b[A\u001b[A\u001b[A\n",
            "\n",
            "\n",
            "\n",
            "  0%|          | 8/30000 [00:03<4:01:31,  2.07it/s]\u001b[A\u001b[A\u001b[A\u001b[A\n",
            "\n",
            "\n",
            "\n",
            "  0%|          | 9/30000 [00:04<4:01:34,  2.07it/s]\u001b[A\u001b[A\u001b[A\u001b[A\n",
            "\n",
            "\n",
            "\n",
            "  0%|          | 10/30000 [00:04<4:01:21,  2.07it/s]\u001b[A\u001b[A\u001b[A\u001b[A\n",
            "\n",
            "\n",
            "\n",
            "  0%|          | 11/30000 [00:05<4:00:24,  2.08it/s]\u001b[A\u001b[A\u001b[A\u001b[A\n",
            "\n",
            "\n",
            "\n",
            "  0%|          | 12/30000 [00:05<4:01:41,  2.07it/s]\u001b[A\u001b[A\u001b[A\u001b[A\n",
            "\n",
            "\n",
            "\n",
            "  0%|          | 13/30000 [00:06<4:00:06,  2.08it/s]\u001b[A\u001b[A\u001b[A\u001b[A\n",
            "\n",
            "\n",
            "\n",
            "  0%|          | 14/30000 [00:06<4:01:27,  2.07it/s]\u001b[A\u001b[A\u001b[A\u001b[A\n",
            "\n",
            "\n",
            "\n",
            "  0%|          | 15/30000 [00:07<4:01:55,  2.07it/s]\u001b[A\u001b[A\u001b[A\u001b[A"
          ],
          "name": "stderr"
        },
        {
          "output_type": "error",
          "ename": "KeyboardInterrupt",
          "evalue": "ignored",
          "traceback": [
            "\u001b[0;31m---------------------------------------------------------------------------\u001b[0m",
            "\u001b[0;31mKeyboardInterrupt\u001b[0m                         Traceback (most recent call last)",
            "\u001b[0;32m<ipython-input-65-ea771502c81d>\u001b[0m in \u001b[0;36m<module>\u001b[0;34m()\u001b[0m\n\u001b[0;32m----> 1\u001b[0;31m \u001b[0mcrossValidation\u001b[0m\u001b[0;34m(\u001b[0m\u001b[0mdata\u001b[0m \u001b[0;34m=\u001b[0m \u001b[0mtrain_data\u001b[0m\u001b[0;34m[\u001b[0m\u001b[0;34m:\u001b[0m\u001b[0;34m,\u001b[0m\u001b[0;36m1\u001b[0m\u001b[0;34m]\u001b[0m\u001b[0;34m,\u001b[0m \u001b[0mn_splits\u001b[0m\u001b[0;34m=\u001b[0m\u001b[0;36m5\u001b[0m\u001b[0;34m,\u001b[0m \u001b[0margs\u001b[0m\u001b[0;34m=\u001b[0m\u001b[0margs\u001b[0m \u001b[0;34m)\u001b[0m\u001b[0;34m\u001b[0m\u001b[0;34m\u001b[0m\u001b[0m\n\u001b[0m",
            "\u001b[0;32m<ipython-input-64-d318da6e0911>\u001b[0m in \u001b[0;36mcrossValidation\u001b[0;34m(data, n_splits, random_state, args)\u001b[0m\n\u001b[1;32m     36\u001b[0m \u001b[0;34m\u001b[0m\u001b[0m\n\u001b[1;32m     37\u001b[0m         \u001b[0;32mfor\u001b[0m \u001b[0mi\u001b[0m \u001b[0;32min\u001b[0m \u001b[0mtqdm\u001b[0m\u001b[0;34m(\u001b[0m\u001b[0mrange\u001b[0m\u001b[0;34m(\u001b[0m\u001b[0;36m0\u001b[0m\u001b[0;34m,\u001b[0m \u001b[0margs\u001b[0m\u001b[0;34m.\u001b[0m\u001b[0mn_epochs\u001b[0m\u001b[0;34m)\u001b[0m\u001b[0;34m)\u001b[0m\u001b[0;34m:\u001b[0m \u001b[0;31m#각 cross validation 을 지정된 epoch으로 실행\u001b[0m\u001b[0;34m\u001b[0m\u001b[0;34m\u001b[0m\u001b[0m\n\u001b[0;32m---> 38\u001b[0;31m             \u001b[0mtrain_loss\u001b[0m \u001b[0;34m=\u001b[0m \u001b[0mtrain\u001b[0m\u001b[0;34m(\u001b[0m\u001b[0mmodel\u001b[0m\u001b[0;34m,\u001b[0m \u001b[0moptimizer\u001b[0m\u001b[0;34m,\u001b[0m \u001b[0mvalid_train_loader\u001b[0m\u001b[0;34m,\u001b[0m \u001b[0mcriterion\u001b[0m\u001b[0;34m)\u001b[0m\u001b[0;34m\u001b[0m\u001b[0;34m\u001b[0m\u001b[0m\n\u001b[0m\u001b[1;32m     39\u001b[0m             \u001b[0mtrain_losses\u001b[0m\u001b[0;34m.\u001b[0m\u001b[0mappend\u001b[0m\u001b[0;34m(\u001b[0m\u001b[0mtrain_loss\u001b[0m\u001b[0;34m)\u001b[0m\u001b[0;34m\u001b[0m\u001b[0;34m\u001b[0m\u001b[0m\n\u001b[1;32m     40\u001b[0m \u001b[0;34m\u001b[0m\u001b[0m\n",
            "\u001b[0;32m<ipython-input-9-a1499098939c>\u001b[0m in \u001b[0;36mtrain\u001b[0;34m(model, optimizer, data_loader, criterion)\u001b[0m\n\u001b[1;32m      3\u001b[0m     \u001b[0mtrain_loss\u001b[0m \u001b[0;34m=\u001b[0m \u001b[0;36m0\u001b[0m\u001b[0;34m\u001b[0m\u001b[0;34m\u001b[0m\u001b[0m\n\u001b[1;32m      4\u001b[0m \u001b[0;34m\u001b[0m\u001b[0m\n\u001b[0;32m----> 5\u001b[0;31m     \u001b[0;32mfor\u001b[0m \u001b[0mi\u001b[0m\u001b[0;34m,\u001b[0m \u001b[0;34m(\u001b[0m\u001b[0mbatch\u001b[0m\u001b[0;34m)\u001b[0m \u001b[0;32min\u001b[0m \u001b[0menumerate\u001b[0m\u001b[0;34m(\u001b[0m\u001b[0mdata_loader\u001b[0m\u001b[0;34m)\u001b[0m\u001b[0;34m:\u001b[0m\u001b[0;34m\u001b[0m\u001b[0;34m\u001b[0m\u001b[0m\n\u001b[0m\u001b[1;32m      6\u001b[0m \u001b[0;34m\u001b[0m\u001b[0m\n\u001b[1;32m      7\u001b[0m         \u001b[0mpred\u001b[0m \u001b[0;34m=\u001b[0m \u001b[0mmodel\u001b[0m\u001b[0;34m(\u001b[0m\u001b[0mbatch\u001b[0m\u001b[0;34m.\u001b[0m\u001b[0mto\u001b[0m\u001b[0;34m(\u001b[0m\u001b[0mDEVICE\u001b[0m\u001b[0;34m)\u001b[0m\u001b[0;34m)\u001b[0m\u001b[0;34m\u001b[0m\u001b[0;34m\u001b[0m\u001b[0m\n",
            "\u001b[0;32m/usr/local/lib/python3.6/dist-packages/torch/utils/data/dataloader.py\u001b[0m in \u001b[0;36m__next__\u001b[0;34m(self)\u001b[0m\n\u001b[1;32m    433\u001b[0m         \u001b[0;32mif\u001b[0m \u001b[0mself\u001b[0m\u001b[0;34m.\u001b[0m\u001b[0m_sampler_iter\u001b[0m \u001b[0;32mis\u001b[0m \u001b[0;32mNone\u001b[0m\u001b[0;34m:\u001b[0m\u001b[0;34m\u001b[0m\u001b[0;34m\u001b[0m\u001b[0m\n\u001b[1;32m    434\u001b[0m             \u001b[0mself\u001b[0m\u001b[0;34m.\u001b[0m\u001b[0m_reset\u001b[0m\u001b[0;34m(\u001b[0m\u001b[0;34m)\u001b[0m\u001b[0;34m\u001b[0m\u001b[0;34m\u001b[0m\u001b[0m\n\u001b[0;32m--> 435\u001b[0;31m         \u001b[0mdata\u001b[0m \u001b[0;34m=\u001b[0m \u001b[0mself\u001b[0m\u001b[0;34m.\u001b[0m\u001b[0m_next_data\u001b[0m\u001b[0;34m(\u001b[0m\u001b[0;34m)\u001b[0m\u001b[0;34m\u001b[0m\u001b[0;34m\u001b[0m\u001b[0m\n\u001b[0m\u001b[1;32m    436\u001b[0m         \u001b[0mself\u001b[0m\u001b[0;34m.\u001b[0m\u001b[0m_num_yielded\u001b[0m \u001b[0;34m+=\u001b[0m \u001b[0;36m1\u001b[0m\u001b[0;34m\u001b[0m\u001b[0;34m\u001b[0m\u001b[0m\n\u001b[1;32m    437\u001b[0m         \u001b[0;32mif\u001b[0m \u001b[0mself\u001b[0m\u001b[0;34m.\u001b[0m\u001b[0m_dataset_kind\u001b[0m \u001b[0;34m==\u001b[0m \u001b[0m_DatasetKind\u001b[0m\u001b[0;34m.\u001b[0m\u001b[0mIterable\u001b[0m \u001b[0;32mand\u001b[0m\u001b[0;31m \u001b[0m\u001b[0;31m\\\u001b[0m\u001b[0;34m\u001b[0m\u001b[0;34m\u001b[0m\u001b[0m\n",
            "\u001b[0;32m/usr/local/lib/python3.6/dist-packages/torch/utils/data/dataloader.py\u001b[0m in \u001b[0;36m_next_data\u001b[0;34m(self)\u001b[0m\n\u001b[1;32m    473\u001b[0m     \u001b[0;32mdef\u001b[0m \u001b[0m_next_data\u001b[0m\u001b[0;34m(\u001b[0m\u001b[0mself\u001b[0m\u001b[0;34m)\u001b[0m\u001b[0;34m:\u001b[0m\u001b[0;34m\u001b[0m\u001b[0;34m\u001b[0m\u001b[0m\n\u001b[1;32m    474\u001b[0m         \u001b[0mindex\u001b[0m \u001b[0;34m=\u001b[0m \u001b[0mself\u001b[0m\u001b[0;34m.\u001b[0m\u001b[0m_next_index\u001b[0m\u001b[0;34m(\u001b[0m\u001b[0;34m)\u001b[0m  \u001b[0;31m# may raise StopIteration\u001b[0m\u001b[0;34m\u001b[0m\u001b[0;34m\u001b[0m\u001b[0m\n\u001b[0;32m--> 475\u001b[0;31m         \u001b[0mdata\u001b[0m \u001b[0;34m=\u001b[0m \u001b[0mself\u001b[0m\u001b[0;34m.\u001b[0m\u001b[0m_dataset_fetcher\u001b[0m\u001b[0;34m.\u001b[0m\u001b[0mfetch\u001b[0m\u001b[0;34m(\u001b[0m\u001b[0mindex\u001b[0m\u001b[0;34m)\u001b[0m  \u001b[0;31m# may raise StopIteration\u001b[0m\u001b[0;34m\u001b[0m\u001b[0;34m\u001b[0m\u001b[0m\n\u001b[0m\u001b[1;32m    476\u001b[0m         \u001b[0;32mif\u001b[0m \u001b[0mself\u001b[0m\u001b[0;34m.\u001b[0m\u001b[0m_pin_memory\u001b[0m\u001b[0;34m:\u001b[0m\u001b[0;34m\u001b[0m\u001b[0;34m\u001b[0m\u001b[0m\n\u001b[1;32m    477\u001b[0m             \u001b[0mdata\u001b[0m \u001b[0;34m=\u001b[0m \u001b[0m_utils\u001b[0m\u001b[0;34m.\u001b[0m\u001b[0mpin_memory\u001b[0m\u001b[0;34m.\u001b[0m\u001b[0mpin_memory\u001b[0m\u001b[0;34m(\u001b[0m\u001b[0mdata\u001b[0m\u001b[0;34m)\u001b[0m\u001b[0;34m\u001b[0m\u001b[0;34m\u001b[0m\u001b[0m\n",
            "\u001b[0;32m/usr/local/lib/python3.6/dist-packages/torch/utils/data/_utils/fetch.py\u001b[0m in \u001b[0;36mfetch\u001b[0;34m(self, possibly_batched_index)\u001b[0m\n\u001b[1;32m     45\u001b[0m         \u001b[0;32melse\u001b[0m\u001b[0;34m:\u001b[0m\u001b[0;34m\u001b[0m\u001b[0;34m\u001b[0m\u001b[0m\n\u001b[1;32m     46\u001b[0m             \u001b[0mdata\u001b[0m \u001b[0;34m=\u001b[0m \u001b[0mself\u001b[0m\u001b[0;34m.\u001b[0m\u001b[0mdataset\u001b[0m\u001b[0;34m[\u001b[0m\u001b[0mpossibly_batched_index\u001b[0m\u001b[0;34m]\u001b[0m\u001b[0;34m\u001b[0m\u001b[0;34m\u001b[0m\u001b[0m\n\u001b[0;32m---> 47\u001b[0;31m         \u001b[0;32mreturn\u001b[0m \u001b[0mself\u001b[0m\u001b[0;34m.\u001b[0m\u001b[0mcollate_fn\u001b[0m\u001b[0;34m(\u001b[0m\u001b[0mdata\u001b[0m\u001b[0;34m)\u001b[0m\u001b[0;34m\u001b[0m\u001b[0;34m\u001b[0m\u001b[0m\n\u001b[0m",
            "\u001b[0;32m/usr/local/lib/python3.6/dist-packages/torch_geometric/data/dataloader.py\u001b[0m in \u001b[0;36m__call__\u001b[0;34m(self, batch)\u001b[0m\n\u001b[1;32m     32\u001b[0m \u001b[0;34m\u001b[0m\u001b[0m\n\u001b[1;32m     33\u001b[0m     \u001b[0;32mdef\u001b[0m \u001b[0m__call__\u001b[0m\u001b[0;34m(\u001b[0m\u001b[0mself\u001b[0m\u001b[0;34m,\u001b[0m \u001b[0mbatch\u001b[0m\u001b[0;34m)\u001b[0m\u001b[0;34m:\u001b[0m\u001b[0;34m\u001b[0m\u001b[0;34m\u001b[0m\u001b[0m\n\u001b[0;32m---> 34\u001b[0;31m         \u001b[0;32mreturn\u001b[0m \u001b[0mself\u001b[0m\u001b[0;34m.\u001b[0m\u001b[0mcollate\u001b[0m\u001b[0;34m(\u001b[0m\u001b[0mbatch\u001b[0m\u001b[0;34m)\u001b[0m\u001b[0;34m\u001b[0m\u001b[0;34m\u001b[0m\u001b[0m\n\u001b[0m\u001b[1;32m     35\u001b[0m \u001b[0;34m\u001b[0m\u001b[0m\n\u001b[1;32m     36\u001b[0m \u001b[0;34m\u001b[0m\u001b[0m\n",
            "\u001b[0;32m/usr/local/lib/python3.6/dist-packages/torch_geometric/data/dataloader.py\u001b[0m in \u001b[0;36mcollate\u001b[0;34m(self, batch)\u001b[0m\n\u001b[1;32m     13\u001b[0m         \u001b[0melem\u001b[0m \u001b[0;34m=\u001b[0m \u001b[0mbatch\u001b[0m\u001b[0;34m[\u001b[0m\u001b[0;36m0\u001b[0m\u001b[0;34m]\u001b[0m\u001b[0;34m\u001b[0m\u001b[0;34m\u001b[0m\u001b[0m\n\u001b[1;32m     14\u001b[0m         \u001b[0;32mif\u001b[0m \u001b[0misinstance\u001b[0m\u001b[0;34m(\u001b[0m\u001b[0melem\u001b[0m\u001b[0;34m,\u001b[0m \u001b[0mData\u001b[0m\u001b[0;34m)\u001b[0m\u001b[0;34m:\u001b[0m\u001b[0;34m\u001b[0m\u001b[0;34m\u001b[0m\u001b[0m\n\u001b[0;32m---> 15\u001b[0;31m             \u001b[0;32mreturn\u001b[0m \u001b[0mBatch\u001b[0m\u001b[0;34m.\u001b[0m\u001b[0mfrom_data_list\u001b[0m\u001b[0;34m(\u001b[0m\u001b[0mbatch\u001b[0m\u001b[0;34m,\u001b[0m \u001b[0mself\u001b[0m\u001b[0;34m.\u001b[0m\u001b[0mfollow_batch\u001b[0m\u001b[0;34m)\u001b[0m\u001b[0;34m\u001b[0m\u001b[0;34m\u001b[0m\u001b[0m\n\u001b[0m\u001b[1;32m     16\u001b[0m         \u001b[0;32melif\u001b[0m \u001b[0misinstance\u001b[0m\u001b[0;34m(\u001b[0m\u001b[0melem\u001b[0m\u001b[0;34m,\u001b[0m \u001b[0mtorch\u001b[0m\u001b[0;34m.\u001b[0m\u001b[0mTensor\u001b[0m\u001b[0;34m)\u001b[0m\u001b[0;34m:\u001b[0m\u001b[0;34m\u001b[0m\u001b[0;34m\u001b[0m\u001b[0m\n\u001b[1;32m     17\u001b[0m             \u001b[0;32mreturn\u001b[0m \u001b[0mdefault_collate\u001b[0m\u001b[0;34m(\u001b[0m\u001b[0mbatch\u001b[0m\u001b[0;34m)\u001b[0m\u001b[0;34m\u001b[0m\u001b[0;34m\u001b[0m\u001b[0m\n",
            "\u001b[0;32m/usr/local/lib/python3.6/dist-packages/torch_geometric/data/batch.py\u001b[0m in \u001b[0;36mfrom_data_list\u001b[0;34m(data_list, follow_batch)\u001b[0m\n\u001b[1;32m     76\u001b[0m \u001b[0;34m\u001b[0m\u001b[0m\n\u001b[1;32m     77\u001b[0m                 \u001b[0;31m# Treat 0-dimensional tensors as 1-dimensional.\u001b[0m\u001b[0;34m\u001b[0m\u001b[0;34m\u001b[0m\u001b[0;34m\u001b[0m\u001b[0m\n\u001b[0;32m---> 78\u001b[0;31m                 \u001b[0;32mif\u001b[0m \u001b[0misinstance\u001b[0m\u001b[0;34m(\u001b[0m\u001b[0mitem\u001b[0m\u001b[0;34m,\u001b[0m \u001b[0mTensor\u001b[0m\u001b[0;34m)\u001b[0m \u001b[0;32mand\u001b[0m \u001b[0mitem\u001b[0m\u001b[0;34m.\u001b[0m\u001b[0mdim\u001b[0m\u001b[0;34m(\u001b[0m\u001b[0;34m)\u001b[0m \u001b[0;34m==\u001b[0m \u001b[0;36m0\u001b[0m\u001b[0;34m:\u001b[0m\u001b[0;34m\u001b[0m\u001b[0;34m\u001b[0m\u001b[0m\n\u001b[0m\u001b[1;32m     79\u001b[0m                     \u001b[0mitem\u001b[0m \u001b[0;34m=\u001b[0m \u001b[0mitem\u001b[0m\u001b[0;34m.\u001b[0m\u001b[0munsqueeze\u001b[0m\u001b[0;34m(\u001b[0m\u001b[0;36m0\u001b[0m\u001b[0;34m)\u001b[0m\u001b[0;34m\u001b[0m\u001b[0;34m\u001b[0m\u001b[0m\n\u001b[1;32m     80\u001b[0m \u001b[0;34m\u001b[0m\u001b[0m\n",
            "\u001b[0;31mKeyboardInterrupt\u001b[0m: "
          ]
        }
      ]
    },
    {
      "cell_type": "markdown",
      "metadata": {
        "id": "jaCBLSGKFIe7"
      },
      "source": [
        "# 6. Visualization\n",
        "---"
      ]
    },
    {
      "cell_type": "code",
      "metadata": {
        "id": "8ZufOfW1SJRr"
      },
      "source": [
        "all_seq = all_seq[1:]"
      ],
      "execution_count": null,
      "outputs": []
    },
    {
      "cell_type": "code",
      "metadata": {
        "id": "0BuFyZgMJGYi",
        "colab": {
          "base_uri": "https://localhost:8080/",
          "height": 198
        },
        "outputId": "30109dd2-b0d7-427b-80ad-b2117a0a50ee"
      },
      "source": [
        "import matplotlib.pyplot as plt\n",
        "import seaborn as sns\n",
        "import plotnine as gg \n",
        "sns.set_style(\"darkgrid\", {\"axes.facecolor\": \"gainsboro\"})\n",
        "df = pandas.DataFrame(all_seq, columns=(\"Epoch\",\"MAE\",\"Std.\",\"R2_score\"))"
      ],
      "execution_count": null,
      "outputs": [
        {
          "output_type": "error",
          "ename": "NameError",
          "evalue": "ignored",
          "traceback": [
            "\u001b[0;31m---------------------------------------------------------------------------\u001b[0m",
            "\u001b[0;31mNameError\u001b[0m                                 Traceback (most recent call last)",
            "\u001b[0;32m<ipython-input-4-efc9e4aca3fd>\u001b[0m in \u001b[0;36m<module>\u001b[0;34m()\u001b[0m\n\u001b[1;32m      4\u001b[0m \u001b[0;32mimport\u001b[0m \u001b[0mplotnine\u001b[0m \u001b[0;32mas\u001b[0m \u001b[0mgg\u001b[0m\u001b[0;34m\u001b[0m\u001b[0;34m\u001b[0m\u001b[0m\n\u001b[1;32m      5\u001b[0m \u001b[0msns\u001b[0m\u001b[0;34m.\u001b[0m\u001b[0mset_style\u001b[0m\u001b[0;34m(\u001b[0m\u001b[0;34m\"darkgrid\"\u001b[0m\u001b[0;34m,\u001b[0m \u001b[0;34m{\u001b[0m\u001b[0;34m\"axes.facecolor\"\u001b[0m\u001b[0;34m:\u001b[0m \u001b[0;34m\"gainsboro\"\u001b[0m\u001b[0;34m}\u001b[0m\u001b[0;34m)\u001b[0m\u001b[0;34m\u001b[0m\u001b[0;34m\u001b[0m\u001b[0m\n\u001b[0;32m----> 6\u001b[0;31m \u001b[0mdf\u001b[0m \u001b[0;34m=\u001b[0m \u001b[0mpandas\u001b[0m\u001b[0;34m.\u001b[0m\u001b[0mDataFrame\u001b[0m\u001b[0;34m(\u001b[0m\u001b[0mall_seq\u001b[0m\u001b[0;34m,\u001b[0m \u001b[0mcolumns\u001b[0m\u001b[0;34m=\u001b[0m\u001b[0;34m(\u001b[0m\u001b[0;34m\"Epoch\"\u001b[0m\u001b[0;34m,\u001b[0m\u001b[0;34m\"MAE\"\u001b[0m\u001b[0;34m,\u001b[0m\u001b[0;34m\"Std.\"\u001b[0m\u001b[0;34m,\u001b[0m\u001b[0;34m\"R2_score\"\u001b[0m\u001b[0;34m)\u001b[0m\u001b[0;34m)\u001b[0m\u001b[0;34m\u001b[0m\u001b[0;34m\u001b[0m\u001b[0m\n\u001b[0m",
            "\u001b[0;31mNameError\u001b[0m: name 'all_seq' is not defined"
          ]
        }
      ]
    },
    {
      "cell_type": "code",
      "metadata": {
        "colab": {
          "base_uri": "https://localhost:8080/",
          "height": 997
        },
        "id": "m89n0QMWO-ng",
        "outputId": "1b01df4b-a3ed-4e29-aed8-26b1584fa448"
      },
      "source": [
        "#  https://blog.naver.com/nife0719/221000580841\n",
        "df = pd.DataFrame(all_seq, columns=(\"Epoch\",\"MAE\",\"Std.\",\"R2_score\"))\n",
        "\n",
        "# ggplot(df[[\"Epoch\",\"R2_Score\"]], aes(x=\"Epoch\")) + geom_density(alpha=.1)\n",
        "score_df = df[[\"Epoch\",\"R2_score\"]]\n",
        "\n",
        "score_graph = gg.ggplot(score_df, aes(sample=\"R2_score\", x=\"Epoch\", y=\"R2_score\",ymin=0.8, ymax=1, fill=\"R2_score\")) \n",
        "score_graph += gg.geom_point(size=2,color=\"dodgerblue\", alpha=0.9)# + geom_qq(size=2,color=\"blue\", alpha=0.9)\n",
        "score_graph += gg.ggtitle(\"R2 score on training\")\n",
        "score_graph += gg.labs(x=\"Epoch\", y=\"R2 score\")\n",
        "\n",
        "trend_graph = gg.ggplot(score_df, aes(x=\"Epoch\",y=\"R2_score\",ymin=0.8, ymax=1, fill=\"R2_score\")) \n",
        "# trend_graph += geom_qq(size=2,color=\"dodgerblue\", alpha=0.5) \n",
        "# trend_graph += geom_qq_line(size=1.2,color=\"blue\",alpha=0.8) \n",
        "# method ['lm', 'ols', 'wls', 'rlm', 'glm', 'gls', 'lowess', 'loess', 'mavg', 'gpr']\n",
        "\"\"\"\n",
        "'auto'       # Use loess if (n<1000), glm otherwise\n",
        "            'lm', 'ols'  # Linear Model\n",
        "            'wls'        # Weighted Linear Model\n",
        "            'rlm'        # Robust Linear Model\n",
        "            'glm'        # Generalized linear Model\n",
        "            'gls'        # Generalized Least Squares\n",
        "            'lowess'     # Locally Weighted Regression (simple)\n",
        "            'loess'      # Locally Weighted Regression\n",
        "            'mavg'       # Moving Average\n",
        "            'gpr'        # Gaussian Process Regressor\n",
        "\"\"\"\n",
        "trend_graph += gg.geom_smooth(span=.3, method='gls') \n",
        "trend_graph += gg.geom_point(size=2, color=\"dodgerblue\") \n",
        "trend_graph += gg.ggtitle(\"Tendency of R2 score\")\n",
        "trend_graph += gg.labs(x=\"Epoch\", y=\"R2 score\")\n",
        "trend_graph += gg.ylim(0,1)\n",
        "\n",
        "score_graph.draw()\n",
        "trend_graph.draw()"
      ],
      "execution_count": null,
      "outputs": [
        {
          "output_type": "stream",
          "text": [
            "/usr/local/lib/python3.6/dist-packages/plotnine/ggplot.py:729: PlotnineWarning: Saving 6.4 x 4.8 in image.\n",
            "  from_inches(height, units), units), PlotnineWarning)\n",
            "/usr/local/lib/python3.6/dist-packages/plotnine/ggplot.py:730: PlotnineWarning: Filename: ./trend_graph.png\n",
            "  warn('Filename: {}'.format(filename), PlotnineWarning)\n"
          ],
          "name": "stderr"
        },
        {
          "output_type": "display_data",
          "data": {
            "image/png": "[encoded data removed]",
            "text/plain": [
              "<Figure size 640x480 with 1 Axes>"
            ]
          },
          "metadata": {
            "tags": []
          }
        },
        {
          "output_type": "display_data",
          "data": {
            "image/png": "[encoded data removed]",
            "text/plain": [
              "<Figure size 640x480 with 1 Axes>"
            ]
          },
          "metadata": {
            "tags": []
          }
        }
      ]
    },
    {
      "cell_type": "code",
      "metadata": {
        "colab": {
          "base_uri": "https://localhost:8080/"
        },
        "id": "_0rY9MBK1wUp",
        "outputId": "89f8fa5c-3b2d-4b52-a59d-c6057fd2ff8c"
      },
      "source": [
        "MAE_df = df[[\"MAE\",\"Epoch\"]]\n",
        "MAE_df[\" \"] = \"MAE\"\n",
        "MAE_df =MAE_df.rename(columns={\"MAE\":\"value\"})\n",
        "Std_df = df[[\"Std.\",\"Epoch\"]]\n",
        "Std_df[\" \"] = \"Std.\"\n",
        "Std_df =Std_df.rename(columns={\"Std.\":\"value\"})\n",
        "value_df = pd.concat([MAE_df,Std_df], axis=0)"
      ],
      "execution_count": null,
      "outputs": [
        {
          "output_type": "stream",
          "text": [
            "/usr/local/lib/python3.6/dist-packages/ipykernel_launcher.py:2: SettingWithCopyWarning: \n",
            "A value is trying to be set on a copy of a slice from a DataFrame.\n",
            "Try using .loc[row_indexer,col_indexer] = value instead\n",
            "\n",
            "See the caveats in the documentation: https://pandas.pydata.org/pandas-docs/stable/user_guide/indexing.html#returning-a-view-versus-a-copy\n",
            "  \n",
            "/usr/local/lib/python3.6/dist-packages/ipykernel_launcher.py:5: SettingWithCopyWarning: \n",
            "A value is trying to be set on a copy of a slice from a DataFrame.\n",
            "Try using .loc[row_indexer,col_indexer] = value instead\n",
            "\n",
            "See the caveats in the documentation: https://pandas.pydata.org/pandas-docs/stable/user_guide/indexing.html#returning-a-view-versus-a-copy\n",
            "  \"\"\"\n"
          ],
          "name": "stderr"
        }
      ]
    },
    {
      "cell_type": "code",
      "metadata": {
        "id": "ChctQQtm4sKg",
        "colab": {
          "base_uri": "https://localhost:8080/",
          "height": 539
        },
        "outputId": "b1c8b05e-6d60-4a98-e4f1-bba733b0ec40"
      },
      "source": [
        "# Test the trained GNN\n",
        "preds = test(model, test_loader)\n",
        "test_mae = np.mean(np.abs(test_targets - preds))\n",
        "r2 = r2_score(test_targets, preds)\n",
        "print('Test MAE: {:.4f}\\tTest R2 score: {:.4f}'.format(test_mae, r2))\n",
        "print(\"--------------HyperParameter Info--------------\")\n",
        "print(\"Batch : {}, init_lr : {}, l2_coeff : {}, epoch : {}\".format(batch_size,init_lr,l2_coeff,n_epochs))\n",
        "print(\"criterion : {}, hidden Channel : {}\".format(criterion,256))\n",
        "print(\"Feature Num. : {}\".format(len(elem_feat_names)))\n",
        "print(\"-----------------------------------------------\")\n",
        "\n",
        "\n",
        "plt.subplots(1,2,figsize=(20,8))\n",
        "plt.subplot(1,2,1)\n",
        "plt.plot(all_seq[1:,0], all_seq[1:,1],label=\"MAE\")\n",
        "plt.plot(all_seq[1:,0], all_seq[1:,2], label=\"STD\")\n",
        "plt.ylim(1,10)\n",
        "plt.title(\"MAE & Std.\",size=15)\n",
        "plt.legend()\n",
        "plt.subplot(1,2,2)\n",
        "# plt.plot(all_seq[1:,0], all_seq[1:,3], label=\"R2_score\")\n",
        "# plt.title(\"R2_Score on Training\",size=15)\n",
        "plt.plot(train_losses, label=\"train\", linewidth=3, color=\"dodgerblue\",alpha=0.8)\n",
        "plt.plot(vali_losses, label=\"validation\", linewidth=1,color=\"orangered\",alpha=0.8)\n",
        "plt.ylim(0,20)\n",
        "plt.title(\"Train & Vaildation Loss\",size=15)\n",
        "plt.legend()\n",
        "\n",
        "plt.show()"
      ],
      "execution_count": null,
      "outputs": [
        {
          "output_type": "stream",
          "text": [
            "Test MAE: 3.2129\tTest R2 score: 0.9042\n",
            "--------------HyperParameter Info--------------\n",
            "Batch : 32, init_lr : 0.0005, l2_coeff : 0.0, epoch : 5000\n",
            "criterion : L1Loss(), hidden Channel : 256\n",
            "Feature Num. : 12\n",
            "-----------------------------------------------\n"
          ],
          "name": "stdout"
        },
        {
          "output_type": "display_data",
          "data": {
            "image/png": "[encoded data removed]",
            "text/plain": [
              "<Figure size 1440x576 with 2 Axes>"
            ]
          },
          "metadata": {
            "tags": []
          }
        }
      ]
    },
    {
      "cell_type": "code",
      "metadata": {
        "id": "lX-sHiD6XdRq"
      },
      "source": [
        "# Save prediction results\n",
        "pred_results = list()\n",
        "for i in range(0, preds.shape[0]):\n",
        "    pred_results.append([test_smiles[i], test_targets[i].item(), preds[i].item()])\n",
        "df = pandas.DataFrame(pred_results)\n",
        "df.columns = ['smiles', 'true_y', 'pred_y']\n",
        "# df.to_excel('EGCN_Default.xlsx', index=False)\n",
        " "
      ],
      "execution_count": null,
      "outputs": []
    }
  ]
}